{
 "cells": [
  {
   "cell_type": "markdown",
   "metadata": {},
   "source": [
    "# STAT 542 - Statistical Learning\n",
    "\n",
    "# Homework 4 - Manan Mehta (mananm2)\n",
    "\n",
    "## Due: 09/21/2020"
   ]
  },
  {
   "cell_type": "markdown",
   "metadata": {},
   "source": [
    "## About HW4"
   ]
  },
  {
   "cell_type": "markdown",
   "metadata": {},
   "source": [
    "This HW contains two major parts. In the first part, we will try to understand the properties of Ridge regression under a case where variables are highly correlated. In the first part, we perform an one-variable Lasso problem using the formula developed in the lecture. This one-variable Lasso code will then be used in HW5 to solve the solution of Lasso in a coordinate descent algorithm. Furthermore, the intercept and scaling issues need to be taking care of in a practical situation."
   ]
  },
  {
   "cell_type": "code",
   "execution_count": 1,
   "metadata": {},
   "outputs": [],
   "source": [
    "#Import all necessary packages\n",
    "import numpy as np\n",
    "import pandas as pd\n",
    "import random\n",
    "import datetime as dt\n",
    "from scipy.stats import norm\n",
    "from scipy.stats import uniform\n",
    "\n",
    "import matplotlib.pyplot as plt\n",
    "plt.rcParams.update({'font.size': 12})\n",
    "\n",
    "from sklearn import metrics\n",
    "from sklearn.preprocessing import StandardScaler\n",
    "from sklearn.linear_model import LinearRegression\n",
    "from sklearn.linear_model import Ridge\n",
    "from sklearn.linear_model import RidgeCV"
   ]
  },
  {
   "cell_type": "markdown",
   "metadata": {},
   "source": [
    "## Question 1 (40 Points) Correrlated Variables in Ridge"
   ]
  },
  {
   "cell_type": "markdown",
   "metadata": {},
   "source": [
    "For this question, we will use the same [Bitcoin data](https://teazrq.github.io/stat542/data/bitcoin.csv) we already constructed in HW3. Use the same training and testing data construction. You may have already noticed that if a linear model is used to perform that task, some parameters cannot be properly estimated, for example, the `n_transactions_total` parameter is only estimated on day 1, while for day 2 and 3, their parameter estimates are `NA` because they are both highly linearly dependent on day 1. Co-linearity is a severe problem of linear regression but Ridge regression can be used to solve that problem. "
   ]
  },
  {
   "cell_type": "markdown",
   "metadata": {},
   "source": [
    "### (20 Points) A Simulation Study"
   ]
  },
  {
   "cell_type": "markdown",
   "metadata": {},
   "source": [
    "For this sub-question you must **write your own code** without using loading any additional package, but you can still use the `lm()` function from the base package. Construct your data in the following way\n",
    "\n",
    "$$ Y = X_1 \\times 0.7 + X_2 \\times 0.8 + X_3 \\times 0.9 + \\epsilon $$\n",
    "where $X_1$ and $\\epsilon$ are generated independently from standard normal distribution, and the other two covariates are simply copies of $X_1$, meaning that $X_2 = X_3 = X_1$. Generate 100 samples from this model, make sure that you save a random seed. You should write down your own code to implement the ridge regression, and **no intercept is needed**. Answer the following questions before you actually fit the models:\n",
    "\n",
    "  * What will happen (regarding the parameter estimates) when you fit a linear regression using data from this model? And why?\n",
    "  * Will Ridge regression be able to address this problem? Will the parameters of the three variables be different or the same?\n",
    "  * Using the singular value decomposition (SVD) and shrinkage understanding we developed during the lecture to explain why you would expect such results from the ridge regression. \n",
    "  \n",
    "Now, use your generated data to confirm your statements. You do no need to tune the penalty term $\\lambda$, just fix it at any nonzero value. Display sufficient information to support your statements, this includes the eigen-values and the rotation matrix $\\mathbf{V}$ from the SVD of $X$. \n",
    "\n",
    "After preforming the above, modify your data by multiplying your $X_1$ by 2. Then use your code to fit the ridge regression again. What changes do you observe? Are the fitted value $\\hat y$ changing? "
   ]
  },
  {
   "cell_type": "markdown",
   "metadata": {},
   "source": [
    "**Solution**"
   ]
  },
  {
   "cell_type": "markdown",
   "metadata": {},
   "source": [
    "* If we fit a linear regression using data from this model, the regression will basically fit the model for X1 only and give 'NA' as the parameter estimates for X2 and X3. This is because the correlation between each variable is 1, so the covariance matrix is singular. In theory, the parameter estimates cannot be calculated using $ (X^TX)^{-1}X^Ty$ as the matrix $ (X^TX)$ is not invertible. R/Python handles this by ignoring the correlated covariates and only computing w.r.t. X1.\n",
    "\n",
    "* Yes, Ridge Regression will address this issue as it basically solves the optimization with an added $L_2$ penalty. This \"perturbs\" the singular matrix $ (X^TX)^{-1}X^Ty$ in linear regression to $ (X^TX + \\lambda I)^{-1}X^Ty $, which can be inverted. The parameters of the three variables will be the same as the covariates are exactly alike.\n",
    "\n",
    "* We know that ridge regression 'shrinks' $\\hat\\beta ^{OLS}$ from the linear regression by a factor of $\\frac{d_{jj}^2}{d_{jj}^2 + \\lambda }$ where $d_{jj}$ is the $j^{th}$ singular value in the SVD $X = UDV^T$. For the purpose of this problem, we divide the coefficient of $X_1$ obtained from the linear regression into three equal parts, and assign one part each to $X_1$, $X_2$, and $X_3$. Thus $ Y \\sim 3\\beta X_1 $ is decomposed to $ Y \\sim \\beta X_1 + \\beta X_2 + \\beta X_3 $ which, without loss of generality, is the same model for our problem. Thus, after ridge regression, our coefficients should shrink to $\\frac{d_{jj}^2}{d_{jj}^2 + \\lambda } \\beta$, which we will verify for diferent values of $\\lambda$."
   ]
  },
  {
   "cell_type": "code",
   "execution_count": 2,
   "metadata": {},
   "outputs": [],
   "source": [
    "X1 = norm.rvs(size = 100 , random_state = 1)\n",
    "X2, X3 = X1, X1\n",
    "X = np.append(np.append(X1.reshape(100,1) , X2.reshape(100,1), axis = 1) , X3.reshape(100,1) , axis = 1)\n",
    "epsilon = norm.rvs(size = 100, random_state = 2)\n",
    "Y = X.dot([0.7, 0.8, 0.9]) + epsilon"
   ]
  },
  {
   "cell_type": "markdown",
   "metadata": {},
   "source": [
    "**Fit a linear regression:**\n",
    "\n",
    "(Note that Python automatically reassigns the coefficients to each variable, while R gives an output of [3 x 0.77 , NA, NA]. The underlying concept is the same and is understood.)"
   ]
  },
  {
   "cell_type": "code",
   "execution_count": 3,
   "metadata": {},
   "outputs": [
    {
     "name": "stdout",
     "output_type": "stream",
     "text": [
      "The coefficients for linear regression are [0.77 0.77 0.77]\n"
     ]
    }
   ],
   "source": [
    "reg = LinearRegression(fit_intercept = False)\n",
    "reg.fit(X, Y)\n",
    "print(\"The coefficients for linear regression are \" + str(np.round(reg.coef_ , 2)))"
   ]
  },
  {
   "cell_type": "markdown",
   "metadata": {},
   "source": [
    "**Fit a ridge regression for $\\lambda$ = 5:**"
   ]
  },
  {
   "cell_type": "code",
   "execution_count": 4,
   "metadata": {},
   "outputs": [
    {
     "name": "stdout",
     "output_type": "stream",
     "text": [
      "The coefficients for ridge regression are [0.75 0.75 0.75]\n"
     ]
    }
   ],
   "source": [
    "def ridgeRegression(X, y, alpha = 1.0):\n",
    "    '''\n",
    "    Function to fit a ridge regression on the input data X,y \n",
    "    using alpha as the penalty coefficient\n",
    "    \n",
    "    Returns parameters for the ridge regression\n",
    "    '''\n",
    "    return np.linalg.inv(X.T.dot(X) + alpha*np.eye(X.shape[1])).dot(X.T.dot(y))\n",
    "\n",
    "beta_ridge = ridgeRegression(X, Y, 5)\n",
    "print(\"The coefficients for ridge regression are \" + str(np.round(beta_ridge,2)))"
   ]
  },
  {
   "cell_type": "markdown",
   "metadata": {},
   "source": [
    "As expected, the coefficients for ridge regression are the same. The values have also shrinked from 0.77 for OLS to 0.75"
   ]
  },
  {
   "cell_type": "markdown",
   "metadata": {},
   "source": [
    "**Shrinkage**:\n",
    "\n",
    "First perform SVD on the covariate matrix:"
   ]
  },
  {
   "cell_type": "code",
   "execution_count": 5,
   "metadata": {},
   "outputs": [],
   "source": [
    "U , D , V = np.linalg.svd(X)"
   ]
  },
  {
   "cell_type": "markdown",
   "metadata": {},
   "source": [
    "We then look at the eigenvalues of the covariance matrix $X^TX$ and see that they are identical to $D_{ii}^2$ from the singular values."
   ]
  },
  {
   "cell_type": "code",
   "execution_count": 6,
   "metadata": {},
   "outputs": [
    {
     "name": "stdout",
     "output_type": "stream",
     "text": [
      "The eigenvalues of the covariance matrix are: [236.15  -0.     0.  ]\n",
      "The dii squared values are: [236.15   0.     0.  ]\n"
     ]
    }
   ],
   "source": [
    "print(\"The eigenvalues of the covariance matrix are: \" + str(np.round(np.linalg.eig(X.T.dot(X))[0] , 2)) )\n",
    "print(\"The dii squared values are: \" + str(np.round( D**2 , 2)))"
   ]
  },
  {
   "cell_type": "markdown",
   "metadata": {},
   "source": [
    "Now, check the shrinkage ratio $\\frac{d_{jj}^2}{d_{jj}^2 + \\lambda }$ for $\\lambda$ = 5:"
   ]
  },
  {
   "cell_type": "code",
   "execution_count": 7,
   "metadata": {},
   "outputs": [
    {
     "name": "stdout",
     "output_type": "stream",
     "text": [
      "The shrinkage ratio is :0.9793\n",
      "The calculated shrinkage ratio is :0.9793\n"
     ]
    }
   ],
   "source": [
    "dii = D[0]\n",
    "print(\"The shrinkage ratio is :\" + str(np.round(dii**2 / (dii**2 + 5) , 4)))\n",
    "print(\"The calculated shrinkage ratio is :\" + str(np.round(beta_ridge[0]/reg.coef_[0] , 4)))"
   ]
  },
  {
   "cell_type": "markdown",
   "metadata": {},
   "source": [
    "We see that the two shrinkages are identical. Using the same code, we can also show that for $\\lambda$ = 236.15, the ridge regression coefficients are exactly halved from the OLS values. Hence, our calculation is consistent for all $\\lambda$s."
   ]
  },
  {
   "cell_type": "markdown",
   "metadata": {},
   "source": [
    "**Data Modification**:\n",
    "\n",
    "Now multiply $X_1$ by 2, keeping $X_2$ and $X_3$ the same."
   ]
  },
  {
   "cell_type": "code",
   "execution_count": 8,
   "metadata": {},
   "outputs": [
    {
     "name": "stdout",
     "output_type": "stream",
     "text": [
      "The coefficients for ridge regression are [0.76 0.38 0.38]\n"
     ]
    }
   ],
   "source": [
    "X = np.append(np.append(2*X1.reshape(100,1) , X2.reshape(100,1), axis = 1) , X3.reshape(100,1) , axis = 1)\n",
    "epsilon = norm.rvs(size = 100, random_state = 2)\n",
    "\n",
    "beta_ridge_new = ridgeRegression(X, Y, 5)\n",
    "print(\"The coefficients for ridge regression are \" + str(np.round(beta_ridge_new,2)))"
   ]
  },
  {
   "cell_type": "markdown",
   "metadata": {},
   "source": [
    "When we multiply $X1$ by 2, the coefficients of the other two variables are halved from before. We also note that the fitted $\\hat{y}$ values do not change."
   ]
  },
  {
   "cell_type": "markdown",
   "metadata": {},
   "source": [
    "### (20 Points) Bitcoin Price Prediction Revisited"
   ]
  },
  {
   "cell_type": "markdown",
   "metadata": {},
   "source": [
    "For this question, take the same training and testing split from the Bitcoin data, and fit a ridge regression. You can use any existing package to perform this.\n",
    "\n",
    "  * State what criteria is used to select the best $\\lambda$. \n",
    "  * State what values of $\\lambda$ are considered and report your best lambda value.\n",
    "  * Compare your model fitting results with the linear model in terms of their performances on the testing data. "
   ]
  },
  {
   "cell_type": "code",
   "execution_count": 9,
   "metadata": {},
   "outputs": [],
   "source": [
    "#First do the same preprocessing as done for the LR case\n",
    "#Scale the data, remove outliers, split into train and test\n",
    "#Refer to the notebook from HW3 for details.\n",
    "\n",
    "#Import Data\n",
    "csv_df = pd.read_csv('bitcoin.csv', usecols = range(1,24)).fillna(method = 'ffill', axis = 0)\n",
    "#Data from 3 days used to predict 7th day\n",
    "n_days, pred_day = 3 , 7\n",
    "\n",
    "#Scale the data\n",
    "ss = StandardScaler()\n",
    "scaled_csv_df = pd.DataFrame(ss.fit_transform(csv_df.values) , columns = csv_df.columns)\n",
    "\n",
    "#Remove outliers\n",
    "outlier_idx = np.where(scaled_csv_df > 10)[0]\n",
    "csv_df.drop(outlier_idx , inplace = True)\n",
    "scaled_csv_df.drop(outlier_idx , inplace = True)\n",
    "\n",
    "#Convert the data into analysis format\n",
    "df = pd.DataFrame()\n",
    "for i in range(len(csv_df.columns)):\n",
    "    for j in range(n_days):\n",
    "        df[i*n_days + j] = np.array(scaled_csv_df.iloc[j:-(pred_day-1)+j , i])\n",
    "\n",
    "df.columns = [col+str(i) for col in csv_df.columns for i in range(1,n_days+1)]\n",
    "df.insert(0, 'output', np.array(scaled_csv_df['btc_market_price'][(pred_day - 1):]) )\n",
    "dates = np.array(pd.to_datetime(pd.read_csv('bitcoin.csv')['Date'].drop(outlier_idx))[(pred_day - 1):])\n",
    "df.insert(0, 'output date', dates)\n",
    "\n",
    "#Train-Test Split\n",
    "traindf, testdf = df[df['output date'] < '2017-01-01'] , df[df['output date'] >= '2017-01-01']\n",
    "X_train, y_train = traindf.iloc[:,2:].values , traindf.iloc[:,1].values\n",
    "X_test, y_test = testdf.iloc[:,2:].values , testdf.iloc[:,1].values"
   ]
  },
  {
   "cell_type": "code",
   "execution_count": 10,
   "metadata": {},
   "outputs": [
    {
     "name": "stdout",
     "output_type": "stream",
     "text": [
      "The best value of lambda is: 0.0154\n"
     ]
    },
    {
     "data": {
      "image/png": "[encoded data removed]",
      "text/plain": [
       "<Figure size 576x360 with 1 Axes>"
      ]
     },
     "metadata": {
      "needs_background": "light"
     },
     "output_type": "display_data"
    }
   ],
   "source": [
    "#We use the RidgeCV package from scikit-learn to fit lambda\n",
    "#Search for lambda in 1000 values from 1e-03 to 8e-02\n",
    "lambda_range = np.linspace(1e-03, 8e-02, 1000)\n",
    "\n",
    "regressor = RidgeCV(alphas = lambda_range , fit_intercept = False, store_cv_values = True)\n",
    "regressor.fit(X_train, y_train)\n",
    "print(\"The best value of lambda is: {:.4f}\".format(regressor.alpha_))\n",
    "\n",
    "plt.figure(figsize = (8,5))\n",
    "plt.plot(lambda_range , 1e04*np.mean(regressor.cv_values_ , axis = 0))\n",
    "plt.axvline(x = regressor.alpha_ , lw = 2, ls = '--', color = 'black')\n",
    "plt.ylabel('GCV (x $10^4 $)')\n",
    "plt.xlabel('$ \\lambda $')\n",
    "plt.title('Fitting $\\lambda$ using training data GCV')\n",
    "plt.show()"
   ]
  },
  {
   "cell_type": "code",
   "execution_count": 11,
   "metadata": {},
   "outputs": [
    {
     "name": "stdout",
     "output_type": "stream",
     "text": [
      "MSE for Ridge Regression: 0.1432\n",
      "MSE for Linear Regression: 0.1996\n"
     ]
    }
   ],
   "source": [
    "#Test Error Comparison\n",
    "y_predicted = regressor.predict(X_test)\n",
    "MSE_Ridge = sum((y_predicted - y_test)**2)/len(y_test)\n",
    "\n",
    "#For Linear Regression\n",
    "MSE_LR = sum((LinearRegression().fit(X_train, y_train).predict(X_test) - y_test)**2)/len(y_test)\n",
    "\n",
    "print(\"MSE for Ridge Regression: {:.4f}\".format(MSE_Ridge))\n",
    "print(\"MSE for Linear Regression: {:.4f}\".format(MSE_LR))"
   ]
  },
  {
   "cell_type": "markdown",
   "metadata": {},
   "source": [
    "**Results**:\n",
    "\n",
    "* We use Generalized Cross-Validation (GCV) criterion to fit $\\lambda$\n",
    "\n",
    "* The range for $\\lambda$ considered is 1e-03 to 8e-02. The best GCV is obtained at $\\lambda$ = 0.0154. (Note that this value may be prone to data pre-processing where we have standardized the covariates)\n",
    "\n",
    "* We see that the Ridge model performs better than Linear Regression on the testing data"
   ]
  },
  {
   "cell_type": "markdown",
   "metadata": {},
   "source": [
    " "
   ]
  },
  {
   "cell_type": "markdown",
   "metadata": {},
   "source": [
    "## Question 2 (60 Points) One Variable Lasso"
   ]
  },
  {
   "cell_type": "markdown",
   "metadata": {},
   "source": [
    "Based on our development in the lecture, fitting a one variable Lasso is simply a soft-thresholding problem. Use the following code the generate a normalized data (if you use python, then do `import random` and call `random.seed(1)`)\n",
    "\n",
    "Please be aware that instead of $\\mathbf{X}^T \\mathbf{X} = \\mathbf{I}$ in the lecture note, we have $\\mathbf{X}^T \\mathbf{X} = n \\mathbf{I}$. However, the derivation in page 33, 34 and 35 from the lecture notes remains largely unchanged except some scaling issues. We will derive a new result using the following objective function for this question:\n",
    "\n",
    "$$\\arg\\min_{\\beta} \\frac{1}{2n} \\lVert \\mathbf{y} - \\mathbf{X}\\beta \\rVert^2 + \\lambda \\lVert \\beta \\rVert_1$$"
   ]
  },
  {
   "cell_type": "code",
   "execution_count": 12,
   "metadata": {},
   "outputs": [],
   "source": [
    "import random\n",
    "random.seed(60)\n",
    "\n",
    "X = np.array([random.gauss(0,1) for i in range(100)])\n",
    "epsilon = np.array([random.gauss(0,1) for i in range(100)])\n",
    "X = X / np.sqrt(sum(X**2)/100)\n",
    "\n",
    "Y = X + epsilon"
   ]
  },
  {
   "cell_type": "markdown",
   "metadata": {},
   "source": [
    "### (30 Points) The Soft-Thresholding Function"
   ]
  },
  {
   "cell_type": "markdown",
   "metadata": {},
   "source": [
    "Consider a model **without intercept**. Perform the rest:\n",
    "\n",
    "  * Re-derive the ${\\hat \\beta}^{\\text Lasso}$ formula in page 34 and 35 based on this one variable Lasso problem with $\\mathbf{X}^T \\mathbf{X} = n\\mathbf{I}$. What is the difference between this and the original one? \n",
    "  * After you obtaining the soft-thresholding solution similar to page 35, write a function in the form of `soft_th <- function(b, lambda)` to calculate it, where `b` is the OLS estimator, and $\\lambda$ is the penalty level.\n",
    "  * Apply this function to your data and obtain the Lasso solution. Report your results. Try a few different $\\lambda$ values to see how that would alter the solution. You do not need to tune it."
   ]
  },
  {
   "cell_type": "markdown",
   "metadata": {},
   "source": [
    "**Solution**"
   ]
  },
  {
   "cell_type": "markdown",
   "metadata": {},
   "source": [
    "Our objective function to be minimized is:\n",
    "\n",
    "$$\\arg\\min_{\\beta} \\frac{1}{2n} \\lVert \\mathbf{y} - \\mathbf{X}\\beta \\rVert^2 + \\lambda \\lVert \\beta \\rVert_1$$\n",
    "\n",
    "$$ = \\arg\\min_{\\beta} \\frac{1}{2n} \\lVert \\mathbf{y} - \\mathbf{X}\\hat\\beta^{OLS} + \\mathbf{X}\\hat\\beta^{OLS} - \\mathbf{X}\\beta \\rVert^2 + \\lambda \\lVert \\beta \\rVert_1$$\n",
    "\n",
    "On expanding $ \\lVert \\mathbf{y} - \\mathbf{X}\\hat\\beta^{OLS} + \\mathbf{X}\\hat\\beta^{OLS} - \\mathbf{X}\\beta \\rVert^2 $ we see that the cross term is zero and $ \\lVert \\mathbf{y} - \\mathbf{X}\\hat\\beta^{OLS} \\rVert^2 $ does not depend on $\\beta$. Thus:\n",
    "\n",
    "$$ \\hat\\beta^{lasso} =  \\arg\\min_{\\beta} \\frac{1}{2n} \\lVert \\mathbf{X}\\hat\\beta^{OLS} - \\mathbf{X}\\beta \\rVert^2 + \\lambda \\lVert \\beta \\rVert_1$$\n",
    "\n",
    "$$ = \\arg\\min_{\\beta} \\frac{1}{2n}  (\\hat\\beta^{OLS} - \\beta)^T \\mathbf{X}^T \\mathbf{X} (\\hat\\beta^{OLS} - \\beta) + \\lambda \\lVert \\beta \\rVert_1 $$\n",
    "\n",
    "$$ = \\arg\\min_{\\beta} \\frac{1}{2}  \\sum_{j = 1}^{p}(\\hat\\beta_j^{OLS} - \\beta_j)^2 + \\lambda \\lVert \\beta \\rVert_1 $$\n",
    "\n",
    "Following the derivation from class, the solution simply becomes:\n",
    "\n",
    "$$ \\hat\\beta_j^{lasso} = sign(\\hat\\beta_j^{OLS}) (|\\hat\\beta_j^{OLS}| - \\lambda)_+ $$\n",
    "\n",
    "The difference between this and the original derivation is that the $\\frac{\\lambda}{2}$ term in the original derivation is now replaced by $ \\lambda $"
   ]
  },
  {
   "cell_type": "code",
   "execution_count": 13,
   "metadata": {},
   "outputs": [],
   "source": [
    "def soft_th(b , lamda = 1):\n",
    "    '''\n",
    "    Function to calculate the parameter for Lasso Regression\n",
    "    given the OLS parameter\n",
    "    Inputs:\n",
    "    b - OLS estimator\n",
    "    lamda - penalty level\n",
    "    \n",
    "    Outputs:\n",
    "    b_lasso - Estimator for lasso regression\n",
    "    \n",
    "    '''\n",
    "    if b > lamda:\n",
    "        return b - lamda\n",
    "    elif b < (-lamda):\n",
    "        return b + lamda\n",
    "    elif abs(b) <= lamda:\n",
    "        return 0\n",
    "    else:\n",
    "        print(\"Error!\")\n",
    "        return 1e5"
   ]
  },
  {
   "cell_type": "markdown",
   "metadata": {},
   "source": [
    "Results from the Model:"
   ]
  },
  {
   "cell_type": "code",
   "execution_count": 14,
   "metadata": {},
   "outputs": [
    {
     "data": {
      "image/png": "[encoded data removed]",
      "text/plain": [
       "<Figure size 864x216 with 2 Axes>"
      ]
     },
     "metadata": {
      "needs_background": "light"
     },
     "output_type": "display_data"
    }
   ],
   "source": [
    "#Since we have only one variable Lasso, we can summarize results in a plot as follows:\n",
    "beta_ols = 1/(X.T.dot(X)) * X.T.dot(Y)\n",
    "lamda = np.linspace(0,abs(2*beta_ols),100)\n",
    "beta_lasso = []\n",
    "mse_lasso = []\n",
    "for l in lamda:\n",
    "    bl = soft_th(beta_ols , l)\n",
    "    beta_lasso.append(bl)\n",
    "    MSE = sum((X*bl - Y)**2)/len(Y)\n",
    "    mse_lasso.append(MSE)\n",
    "\n",
    "fig, axarr = plt.subplots(1,2,figsize = (12,3))\n",
    "ax1, ax2 = axarr[0], axarr[1]\n",
    "\n",
    "ax1.plot(lamda , beta_lasso, color = 'black')\n",
    "ax1.set_title(r'$\\hat\\beta^{lasso}$ vs. Penalty for $\\hat\\beta^{OLS}$ = '+str(np.round(beta_ols,2)))\n",
    "ax1.set_xlabel(r'$\\lambda$')\n",
    "ax1.set_ylabel(r'$\\hat\\beta^{lasso} $')\n",
    "\n",
    "ax2.plot(lamda , mse_lasso, color = 'black')\n",
    "ax2.set_title(r'MSE vs. Penalty for $\\hat\\beta^{OLS}$ = '+str(np.round(beta_ols,2)))\n",
    "ax2.set_xlabel(r'$\\lambda$')\n",
    "ax2.set_ylabel(r'MSE')\n",
    "\n",
    "\n",
    "plt.show()"
   ]
  },
  {
   "cell_type": "markdown",
   "metadata": {},
   "source": [
    " "
   ]
  },
  {
   "cell_type": "markdown",
   "metadata": {},
   "source": [
    "### (30 Points) The Intercept, Centering and Scaling Issues"
   ]
  },
  {
   "cell_type": "markdown",
   "metadata": {},
   "source": [
    "Re-generate your data based on the following code:"
   ]
  },
  {
   "cell_type": "code",
   "execution_count": 15,
   "metadata": {},
   "outputs": [],
   "source": [
    "random.seed(1)\n",
    "\n",
    "X = np.array([random.gauss(1,2) for i in range(100)])\n",
    "epsilon = np.array([random.gauss(0,1) for i in range(100)])\n",
    "\n",
    "Y = 1 + X + epsilon"
   ]
  },
  {
   "cell_type": "markdown",
   "metadata": {},
   "source": [
    "For this question, we will use a technique to deal with the center and scale of $X$ based on the intuition: \n",
    "\n",
    "$$\n",
    "\\begin{align}\n",
    "\\frac{Y - \\bar{Y}}{\\text{sd}_y} =&~ \\sum_{j=1}^p \\frac{X_j - \\bar{X}_j}{\\text{sd}_j} \\gamma_j \\\\\n",
    "Y =&~ \\underbrace{\\bar{Y} - \\sum_{j=1}^p \\bar{X}_j \\frac{\\text{sd}_y \\cdot \\gamma_j}{\\text{sd}_j}}_{\\beta_0} + \\sum_{j=1}^p X_j \\underbrace{\\frac{\\text{sd}_y \\cdot \\gamma_j}{\\text{sd}_j}}_{\\beta_j},\n",
    "\\end{align}\n",
    "$$\n",
    "\n",
    "A common practice when dealing with the intercept and scaling is to perform the following:\n",
    "\n",
    "  * Center and scale both $\\mathbf{X}$ (column-wise) and $\\mathbf{y}$ and denote the processed data as $\\frac{Y - \\bar{Y}}{\\text{sd}_y}$ and $\\frac{X_j - \\bar{X}_j}{\\text{sd}_j}$ in the above formula.\n",
    "  * Fit a linear regression (or Lasso) using the processed data based on the no-intercept model, and obtain the parameter estimates $\\gamma_j$. In our case, there is only one $j$, i.e. $p=1$. \n",
    "  * Recover the original parameters $\\beta_0$ and $\\beta_j$'s. \n",
    "  \n",
    "Understand and implement this procedure to our one-variable Lasso problem and obtain the Lasso solution on the original scale. You must write your own code and use the `soft_th()` function previously defined. For the choice of $\\lambda$, use a value that does not give you a trivial solution. A trivial solution is $\\beta^{Lasso}=0$ or $\\beta^{OLS}$."
   ]
  },
  {
   "cell_type": "code",
   "execution_count": 17,
   "metadata": {},
   "outputs": [
    {
     "name": "stdout",
     "output_type": "stream",
     "text": [
      "The OLS parameter for the centered data:0.88\n",
      "The Lasso parameter (lambda = 0.05) for the centered data:0.83\n",
      "The (recovered) original parameters are: 1.26 and 0.90\n"
     ]
    }
   ],
   "source": [
    "X_bar , sd_x = np.mean(X) , np.std(X)\n",
    "Y_bar , sd_y = np.mean(Y) , np.std(Y)\n",
    "\n",
    "X_centered = (X - X_bar) / sd_x\n",
    "Y_centered = (Y - Y_bar) / sd_y\n",
    "\n",
    "beta_ols = 1/(X_centered.T.dot(X_centered)) * X_centered.T.dot(Y_centered)\n",
    "lamda = 0.05\n",
    "beta_lasso = soft_th(beta_ols , lamda)\n",
    "print(\"The OLS parameter for the centered data:{:.2f}\".format(beta_ols))\n",
    "print(\"The Lasso parameter (lambda = {:.2f}) for the centered data:{:.2f}\".format(lamda,beta_lasso))\n",
    "\n",
    "#Now recover the original parameters\n",
    "beta_0 = Y_bar - X_bar*(sd_y / sd_x)*beta_lasso\n",
    "beta_1 = (sd_y / sd_x)*beta_lasso\n",
    "print(\"The (recovered) original parameters are: {:.2f} and {:.2f}\".format(beta_0, beta_1))"
   ]
  }
 ],
 "metadata": {
  "kernelspec": {
   "display_name": "Python 3",
   "language": "python",
   "name": "python3"
  },
  "language_info": {
   "codemirror_mode": {
    "name": "ipython",
    "version": 3
   },
   "file_extension": ".py",
   "mimetype": "text/x-python",
   "name": "python",
   "nbconvert_exporter": "python",
   "pygments_lexer": "ipython3",
   "version": "3.7.6"
  }
 },
 "nbformat": 4,
 "nbformat_minor": 4
}
