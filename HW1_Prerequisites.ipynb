{
 "cells": [
  {
   "cell_type": "markdown",
   "metadata": {},
   "source": [
    "# STAT 542 - Statistical Learning\n",
    "\n",
    "# Homework 1 - Manan Mehta (mananm2)\n",
    "\n",
    "## Due: 08/31/2020"
   ]
  },
  {
   "cell_type": "markdown",
   "metadata": {},
   "source": [
    "## About Homework 1"
   ]
  },
  {
   "cell_type": "markdown",
   "metadata": {},
   "source": [
    "The goal of HW1 is to check your prerequisite knowledge. All of this knowledge should be already covered in courses such as Stat 410, Stat 425 and other basic mathematical courses. These concepts and skills will be used extensively in our course. \n",
    "\n",
    "In addition, this HW also check your basic programming knowledge, such as writing a function, random seed, and also Latex. Please note that you are required to type-in all formulas in Latex form in all future homeworks. Failing to do so will lead to some penalty."
   ]
  },
  {
   "cell_type": "markdown",
   "metadata": {},
   "source": [
    "## Basic Calculus"
   ]
  },
  {
   "cell_type": "markdown",
   "metadata": {},
   "source": [
    "#### 1. Calculate the derivatives:\n",
    "\n",
    "   (a) $$\\frac{d}{dx}e^x = e^x$$\n",
    "    \n",
    "   (b) $$\\frac{d}{dx}log(1 + x) = \\frac{1}{1 + x}$$\n",
    "    \n",
    "   (c) $$\\frac{d}{dx}log(1 + e^x) = \\frac{e^x}{1 + e^x}$$"
   ]
  },
  {
   "cell_type": "markdown",
   "metadata": {},
   "source": [
    "#### 2. Taylor Expansion\n",
    "\n",
    "Let $f$: $\\mathbb{R} \\rightarrow \\mathbb{R}$ be a twice differentiable function. Please write down the first three terms of its Taylor expansion at point $x = 1$.\n",
    "\n",
    "The Taylor expansion at $x=1$ is:\n",
    "\n",
    "$$ f(1) + \\frac{f^\\prime(1)}{1!} (x - 1) + \\frac{f^{\\prime\\prime}(1)}{2!} (x - 1)^2 $$\n",
    "\n",
    "The general Taylor series at $x=a$ is:\n",
    "\n",
    "$$ \\sum_{n = 0}^{\\infty} \\frac{f^{(n)}(a)}{n!} (x - a)^n $$"
   ]
  },
  {
   "cell_type": "markdown",
   "metadata": {},
   "source": [
    "#### 3. Inifinite Sum Convergence\n",
    "\n",
    "For the infinite sum $\\sum_{n=1}^\\infty \\frac{1}{n^\\alpha}$, where $\\alpha$ is a positive real number, give the exact range of $\\alpha$ such that the series converges.\n",
    "\n",
    "The series converges for $\\alpha \\gt 1$ and diverges for $0 \\gt \\alpha \\geq 1$"
   ]
  },
  {
   "cell_type": "markdown",
   "metadata": {},
   "source": [
    " "
   ]
  },
  {
   "cell_type": "markdown",
   "metadata": {},
   "source": [
    "## Linear Algebra"
   ]
  },
  {
   "cell_type": "markdown",
   "metadata": {},
   "source": [
    "#### 1. Eigendecomposition\n",
    "\n",
    "What is the eigendecomposition of a real symmetric matrix $A_{n \\times n}$? Write down one form of that decomposition and explain each term in your formula. Based on these terms, derive $A^{-1/2}$\n",
    "\n",
    "The eigendecomposition of a real symmetric matrix is:\n",
    "\n",
    "$$ A = PDP^{T} $$\n",
    "\n",
    "where $P_{n \\times n}$ is an orthogonal matrix whose columns are the eigenvectors of $A$ (we know that: if $A_{n \\times n}$ is a real symmetric matrix, $A$ has $n$ distinct eigenvectors that form an orthonormal basis for $\\mathbb{R}^n$ )\n",
    "\n",
    "and $D_{n \\times n} = diag(\\epsilon_1, \\epsilon_2, ..., \\epsilon_n)$\n",
    "\n",
    "Thus we can find $A^{-1/2}$ as:\n",
    "\n",
    "$$ A^{-1/2} = PD^{-1/2}P^{T} $$\n",
    "\n",
    "where $D^{-1/2} = diag(\\sqrt{\\epsilon_1}, \\sqrt{\\epsilon_2}, ..., \\sqrt{\\epsilon_n}) $ "
   ]
  },
  {
   "cell_type": "markdown",
   "metadata": {},
   "source": [
    "#### 2. SPD Matrix\n",
    "\n",
    "A matrix $A_{n \\times n}$ is symmetric positive definite if and only if all its eigenvalues are positive. Alternatively, $A_{n \\times n}$ is symmetric positive definite if:\n",
    "\n",
    "$$ x^TAx \\gt 0 \\hspace{1em} \\forall x \\in \\mathbb{R}^n /\\ 0$$"
   ]
  },
  {
   "cell_type": "markdown",
   "metadata": {},
   "source": [
    "#### 3. True or False\n",
    "\n",
    "For two real matrices $A_{m \\times n}$ and $B_{n \\times m}$\n",
    "\n",
    "(a) Rank$(A)$ = $\\max\\{m, n\\}$\n",
    "\n",
    "**False** : Rank$(A)$ $\\leq$ $\\min\\{m, n\\}$ where the equality holds only when $A$ is full ranked.\n",
    "\n",
    "(b) If $m = n$, then trace$(A)$ = $\\sum_{i=1}^n A_{ii}$\n",
    "\n",
    "**True**\n",
    "\n",
    "(c) If $A$ is a symmetric matrix, then all eigenvalues of $A$ are real\n",
    "\n",
    "**True**\n",
    "\n",
    "(d) If $A$ is a symmetric matrix, $\\lambda_1$ and $\\lambda_2$ are two of its eigen-values (not necessarily different) and $v_1$,$v_2$ are the corresponding eigen-vectors, then $v_1^T v_2 = 0$\n",
    "\n",
    "**True** : Eigenvectors of the eigenvalues of a symmetric matrix are mutually orthogonal\n",
    "\n",
    "(e) trace($ABAB$) = trace($AABB$)\n",
    "\n",
    "**False** : If $A$ is $m \\times n$ and $B$ is $n \\times m$ then the product $AABB$ is not valid. Even if $A$ and $B$ are $n \\times n$, trace only remains unchanged under cyclic permutations. Thus trace($ABAB$) $=$ trace($BABA$) $\\neq$ trace($AABB$) \n"
   ]
  },
  {
   "cell_type": "markdown",
   "metadata": {},
   "source": [
    " "
   ]
  },
  {
   "cell_type": "markdown",
   "metadata": {},
   "source": [
    "## Statistics"
   ]
  },
  {
   "cell_type": "markdown",
   "metadata": {},
   "source": [
    "#### 1. Estimators\n",
    "\n",
    "$X_1$, $X_2$, $\\ldots$, $X_n$ are i.i.d. ${\\cal N}(\\mu, \\sigma^2)$ random variables, where $\\mu \\in \\mathbb{R}$ and $\\sigma > 0$ is finite. Let $\\bar{X}_n = \\frac{1}{n} \\sum_{i=1}^n X_i$. \n",
    "\n",
    "(a) What is an unbiased estimator? Is $\\bar{X}_n$ an unbiased estimator of $\\mu$?\n",
    "    \n",
    "   An estimator with zero difference between the estimator's expected value and and the parameter true value is *unbiased*. $\\bar{X}_n$ is an unbiased estimator of $\\mu$.\n",
    "    \n",
    "(b) What is $E[(\\bar{X}_n)^2]$ in terms of $n, \\mu, \\sigma$?\n",
    "    \n",
    "   We know the relationship $ Var(\\bar{X}_n) = E[(\\bar{X}_n)^2] - [E( \\bar{X}_n )]^2 $\n",
    "    \n",
    "   On rearranging, we get $ E[(\\bar{X}_n)^2] = Var(\\bar{X}_n) + [E( \\bar{X}_n )]^2 $\n",
    "   \n",
    "   Thus, $$ E[(\\bar{X}_n)^2] = \\frac{\\sigma^2}{n} + \\mu^2 $$\n",
    "   \n",
    "(c) Give an unbiased estimator of $\\sigma^2$\n",
    "\n",
    "   An unbiased estimator of $\\sigma^2$ is sample variance $ S^2 $ given by:\n",
    "   \n",
    "   $$ S^2 = \\frac{\\sum_{i=1}^n (X_i - \\bar{X}_n)^2}{n-1} $$\n",
    "   \n",
    "(d) What is a consistent estimator? Is $\\bar{X}_n$ a consistent estimator of $\\mu$?\n",
    "\n",
    "   A consistent estimator is an estimator, for which, as the number of data points increases indefinitely, the estimate converges in theory to the parameter. Yes, $\\bar{X}_n$ a consistent estimator of $\\mu$."
   ]
  },
  {
   "cell_type": "markdown",
   "metadata": {},
   "source": [
    "#### 2. Least Squares Model\n",
    "\n",
    "Suppose $X_{p \\times 1}$ is a vector of covariates, $\\beta_{p \\times 1}$ is a vector of unknown parameters, $\\epsilon$ is the unobserved random noise and we assume the linear model relationship $y = X^T \\beta + \\epsilon$. Suppose we have $n$ i.i.d. samples from this linear model, and the observed data can be written using the matrix form: $\\mathbf{y}_{n \\times 1} = \\mathbf{X}_{n\\times p} \\beta_{p \\times 1} + \\boldsymbol \\epsilon_{n \\times 1}$\n",
    "\n",
    "(a) If we want estimate the unknown $\\beta$ using a least square method, what is the objective function $L(\\beta)$ to obtain $\\widehat \\beta$?\n",
    "\n",
    "The objective function can be written as: $$ L(\\beta) = (y - X\\beta)^T (y - X\\beta)$$\n",
    "\n",
    "(b)  What is the solution of $\\widehat \\beta$? Represent the solution using the observed data $\\mathbf{y}$ and $\\mathbf{X}_{n\\times p}$. Note that you may assume that $\\mathbf{X}^T \\mathbf{X}$ is invertible.\n",
    "\n",
    "The solution $ min(L(\\beta)) $ is obtained by taking the partial derivative with each $\\beta_j$. The final expression is:\n",
    "\n",
    "$$ \\widehat{\\beta} = (X^TX)^{-1} X^T y $$\n",
    "\n",
    "Reference: Linear Least Squares (Stanford StatWeb) : https://statweb.stanford.edu/~owen/courses/305a/ch2.pdf"
   ]
  },
  {
   "cell_type": "markdown",
   "metadata": {},
   "source": [
    " "
   ]
  },
  {
   "cell_type": "markdown",
   "metadata": {},
   "source": [
    "## Programming"
   ]
  },
  {
   "cell_type": "markdown",
   "metadata": {},
   "source": [
    "(Course recommends R, but Python is used here)"
   ]
  },
  {
   "cell_type": "markdown",
   "metadata": {},
   "source": [
    "#### 1. Linear Least Squares Function\n",
    "\n",
    "Use the following code to generate a set of observations $\\mathbf{y}$ and $\\mathbf{X}_{n\\times p}$. Following the previously established formula, Write your own code, instead of using existing functions such as `lm()`, to solve for the least square estimator $\\widehat \\beta$. If you are asked to add an intercept term $\\beta_0$ into your estimation (even the true $\\beta_0 = 0$ in our data generator), what should you do?"
   ]
  },
  {
   "cell_type": "code",
   "execution_count": 42,
   "metadata": {},
   "outputs": [
    {
     "name": "stdout",
     "output_type": "stream",
     "text": [
      "True Beta: [ 1  0  0  1 -1]\n",
      "Estimated Beta: [ 0.98 -0.03 -0.08  0.93 -0.96]\n"
     ]
    }
   ],
   "source": [
    "import numpy as np\n",
    "from scipy.stats import norm\n",
    "\n",
    "def getBeta(y, X):\n",
    "    return (np.linalg.inv(X.T.dot(X))).dot((X.T).dot(y))\n",
    "\n",
    "#Generate data\n",
    "seed = 1\n",
    "n , p = 100 , 5\n",
    "true_beta = np.array([1 , 0 , 0 , 1 , -1])\n",
    "X = norm.rvs(size = (n,p), random_state = seed)\n",
    "epsilon = norm.rvs(size = n, random_state = seed)\n",
    "\n",
    "y = X.dot(true_beta) + epsilon\n",
    "\n",
    "#Get a least squared estimate for beta from the generated data\n",
    "estimated_beta = getBeta(y , X)\n",
    "\n",
    "#Compare how the estimate matches the true parameters\n",
    "print(\"True Beta:\", true_beta)\n",
    "print(\"Estimated Beta:\", np.round(estimated_beta,2))"
   ]
  },
  {
   "cell_type": "markdown",
   "metadata": {},
   "source": [
    "If asked to add an intercept, we change $p$ to 6, and add a **column of ones** to the newly generated $X$."
   ]
  },
  {
   "cell_type": "markdown",
   "metadata": {},
   "source": [
    "#### 2. Simulation Study\n",
    "\n",
    "Perform a simulation study to check the consistency of the sample mean estimator $\\bar{X}_n$. Please save your random seed so that the results can be replicated by others."
   ]
  },
  {
   "cell_type": "markdown",
   "metadata": {},
   "source": [
    "(a) Generate a set of $n = 20$ i.i.d. observations from uniform (0, 1) distribution and calculate the sample mean $\\bar{X}_n$"
   ]
  },
  {
   "cell_type": "code",
   "execution_count": 58,
   "metadata": {},
   "outputs": [
    {
     "name": "stdout",
     "output_type": "stream",
     "text": [
      "The sample mean is 0.37\n"
     ]
    }
   ],
   "source": [
    "import numpy as np\n",
    "import matplotlib.pyplot as plt\n",
    "import seaborn as sns\n",
    "from scipy.stats import uniform\n",
    "seed = 1\n",
    "n = 20\n",
    "x = uniform.rvs(size = n, random_state = seed)\n",
    "\n",
    "sample_mean = np.mean(x)\n",
    "print(\"The sample mean is {:.2f}\".format(sample_mean))"
   ]
  },
  {
   "cell_type": "markdown",
   "metadata": {},
   "source": [
    "(b) Repeat step [a] 1000 times to collect 1000 such sample means and plot them using a histogram."
   ]
  },
  {
   "cell_type": "code",
   "execution_count": 88,
   "metadata": {},
   "outputs": [
    {
     "data": {
      "image/png": "[encoded data removed]",
      "text/plain": [
       "<Figure size 432x288 with 1 Axes>"
      ]
     },
     "metadata": {
      "needs_background": "light"
     },
     "output_type": "display_data"
    }
   ],
   "source": [
    "#seed in each iteration is the iteration number\n",
    "n = 20\n",
    "\n",
    "sample_means = np.zeros(1000)\n",
    "for i in range(1000):\n",
    "    sample_means[i] = np.mean(uniform.rvs(size = n, random_state = i))\n",
    "\n",
    "plt.hist(sample_means, bins = n)\n",
    "plt.xlabel('Sample Mean')\n",
    "plt.ylabel('# Observations')\n",
    "plt.show()"
   ]
  },
  {
   "cell_type": "markdown",
   "metadata": {},
   "source": [
    "(c) How many of such sample means (out of 1000) are at least 0.1 away from true mean parameter, which is 0.5 for uniform (0, 1)?"
   ]
  },
  {
   "cell_type": "code",
   "execution_count": 89,
   "metadata": {},
   "outputs": [
    {
     "name": "stdout",
     "output_type": "stream",
     "text": [
      "Number of sample means at least 0.1 away from 0.5 is 121 out of 1000\n"
     ]
    }
   ],
   "source": [
    "n_outliers = (sample_means < 0.4).sum() + (sample_means > 0.6).sum()\n",
    "print(\"Number of sample means at least 0.1 away from 0.5 is {} out of 1000\".format(n_outliers))"
   ]
  },
  {
   "cell_type": "markdown",
   "metadata": {},
   "source": [
    "(d) Repeat steps [a] to [c] with n=100 and n=500. What conclusion can you make?"
   ]
  },
  {
   "cell_type": "code",
   "execution_count": 104,
   "metadata": {},
   "outputs": [
    {
     "data": {
      "image/png": "[encoded data removed]",
      "text/plain": [
       "<Figure size 864x288 with 3 Axes>"
      ]
     },
     "metadata": {
      "needs_background": "light"
     },
     "output_type": "display_data"
    }
   ],
   "source": [
    "#For n = 20\n",
    "n = 20\n",
    "sample_means_20 = np.zeros(1000)\n",
    "for i in range(1000):\n",
    "    sample_means_20[i] = np.mean(uniform.rvs(size = n, random_state = i))\n",
    "    \n",
    "\n",
    "\n",
    "#For n = 100\n",
    "n = 100\n",
    "sample_means_100 = np.zeros(1000)\n",
    "for i in range(1000):\n",
    "    sample_means_100[i] = np.mean(uniform.rvs(size = n, random_state = i))\n",
    "\n",
    "    \n",
    "    \n",
    "#For n = 500\n",
    "n = 500\n",
    "sample_means_500 = np.zeros(1000)\n",
    "for i in range(1000):\n",
    "    sample_means_500[i] = np.mean(uniform.rvs(size = n, random_state = i))\n",
    "\n",
    "    \n",
    "    \n",
    "#Compare all three side-by-side\n",
    "fig, axarr = plt.subplots(1,3, figsize = (12,4))\n",
    "ax1, ax2, ax3 = axarr[0], axarr[1], axarr[2]\n",
    "\n",
    "ax1.hist(sample_means_20, bins = 20)\n",
    "ax2.hist(sample_means_100, bins = 20)\n",
    "ax3.hist(sample_means_500, bins = 20)\n",
    "\n",
    "ax1.set_xlim([0.3 , 0.7])\n",
    "ax2.set_xlim([0.3 , 0.7])\n",
    "ax3.set_xlim([0.3 , 0.7])\n",
    "\n",
    "plt.suptitle('Sample Means for different number of samples drawn [Uniform(0,1)]')\n",
    "ax1.set_title('n = 20')\n",
    "ax2.set_title('n = 100')\n",
    "ax3.set_title('n = 500')\n",
    "\n",
    "plt.show()"
   ]
  },
  {
   "cell_type": "markdown",
   "metadata": {},
   "source": [
    "We can conclude from the above plots that as the number of samples drawn ($ n $) increases, the probability of obtaining the mean closer to the parameter mean of 0.5 increases. From the histograms, as $n \\rightarrow \\infty, P(\\bar{X}_n = \\mu) \\rightarrow 1$. This proves that sample mean is a consistent estimator."
   ]
  }
 ],
 "metadata": {
  "kernelspec": {
   "display_name": "Python 3",
   "language": "python",
   "name": "python3"
  },
  "language_info": {
   "codemirror_mode": {
    "name": "ipython",
    "version": 3
   },
   "file_extension": ".py",
   "mimetype": "text/x-python",
   "name": "python",
   "nbconvert_exporter": "python",
   "pygments_lexer": "ipython3",
   "version": "3.7.6"
  }
 },
 "nbformat": 4,
 "nbformat_minor": 4
}
